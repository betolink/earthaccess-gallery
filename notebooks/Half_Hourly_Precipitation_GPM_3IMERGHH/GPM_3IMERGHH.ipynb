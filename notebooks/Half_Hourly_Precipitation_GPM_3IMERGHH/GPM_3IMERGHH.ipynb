{
 "cells": [
  {
   "cell_type": "markdown",
   "id": "fe0e1606-699a-4f1c-8348-209cf4ca84e6",
   "metadata": {},
   "source": [
    "\n",
    "# 🌍 Analyzing Hourly GPM IMERG Precipitation L3\n"
   ]
  },
  {
   "cell_type": "code",
   "execution_count": null,
   "id": "adc12546-827a-4d14-b92e-cf10e3823231",
   "metadata": {
    "tags": []
   },
   "outputs": [],
   "source": [
    "import earthaccess \n",
    "\n",
    "print(f\"using earthaccess version {earthaccess.__version__}\")\n",
    "\n",
    "auth = earthaccess.login(strategy=\"netrc\")\n",
    "# are we authenticated?\n",
    "if not auth.authenticated:\n",
    "    # ask for credentials and persist them in a .netrc file\n",
    "    auth.login(strategy=\"interactive\", persist=True)"
   ]
  },
  {
   "cell_type": "markdown",
   "id": "ac5cb775-ac1a-4bd8-9c47-0d1baaabd718",
   "metadata": {
    "tags": []
   },
   "source": [
    "### Authentication in the cloud \n",
    "If the collection is a cloud-hosted collection we can print the `summary()` and get the S3 credential endpoint. These S3 credentials are temporary and we can use them with third party libraries such as s3fs, boto3 or awscli."
   ]
  },
  {
   "cell_type": "code",
   "execution_count": null,
   "id": "9ecafd00-d5d5-4c10-99a8-5e48f2614407",
   "metadata": {},
   "outputs": [],
   "source": [
    "from pprint import pprint\n",
    "results = earthaccess.search_datasets(keyword = \"IMERGHH Precipitation L3 \")\n",
    "\n",
    "# Let's print our collections\n",
    "for collection in results:\n",
    "    # pprint(collection.summary())\n",
    "    print(pprint(collection.summary()) ,\"\\n\")"
   ]
  },
  {
   "cell_type": "markdown",
   "id": "d1a3afde-18a4-4bc0-9351-5a7b623c3780",
   "metadata": {},
   "source": [
    "## A year of data \n",
    "\n",
    "Things to keep in mind:\n",
    "\n",
    "* this is a high resolution dataset\n",
    "* this is a global dataset\n",
    "* temporal resolution is 30 minutes = 48 granules per day\n",
    "\n",
    "With earthaccess we can programatically download this data (or access it directly in the cloud) but for the size of the dataset we have to batch our requests or reduce the scope for this example."
   ]
  },
  {
   "cell_type": "code",
   "execution_count": null,
   "id": "cffa7990-94cf-4efa-a788-8cdd9d0d0467",
   "metadata": {},
   "outputs": [],
   "source": [
    "# count = 1 is important so we don't download the whole year! \n",
    "granules = earthaccess.search_data(count=1,\n",
    "                                   concept_id=\"C1598621093-GES_DISC\",\n",
    "                                   temporal = (\"2020-01\",\"2021-01\"))"
   ]
  },
  {
   "cell_type": "markdown",
   "id": "f30fed42-2890-4d50-a57b-cf497c8fc57b",
   "metadata": {},
   "source": [
    "## Working with the URLs directly\n",
    "\n",
    "If we chose, we can use `earthdata` to grab the file's URLs and then download them with another library (if we have a `.netrc` file configured with NASA's EDL credentials)\n",
    "Getting the links to our data is quiet simple with the `data_links()` method on each of the results:"
   ]
  },
  {
   "cell_type": "code",
   "execution_count": null,
   "id": "40fb1dd3-5392-4bd2-ad17-b16702604ae6",
   "metadata": {},
   "outputs": [],
   "source": [
    "# on_prem is a bit misleading, the collection is cloud hosted, in this case the access can be done out of region \n",
    "granules[0].data_links(access=\"out-of-region\")"
   ]
  },
  {
   "cell_type": "code",
   "execution_count": null,
   "id": "a217ae0f-bc15-468f-b080-00ddc12814b9",
   "metadata": {},
   "outputs": [],
   "source": [
    "granules[0].data_links(access=\"direct\")"
   ]
  },
  {
   "cell_type": "markdown",
   "id": "81aab3ac-15fb-4dbd-8a04-55ba93f0ecd4",
   "metadata": {},
   "source": [
    "## Downloading data\n",
    "\n",
    "We are going to download 1 granule.\n"
   ]
  },
  {
   "cell_type": "code",
   "execution_count": null,
   "id": "23d000d0-9177-47a0-93a1-df74beb290f9",
   "metadata": {},
   "outputs": [],
   "source": [
    "local_path = \"./data\"\n",
    "files = earthaccess.download(granules[0:1], local_path=local_path)\n",
    "files"
   ]
  },
  {
   "cell_type": "code",
   "execution_count": null,
   "id": "8ff14a80-8ad2-428c-8589-03b4e427fb53",
   "metadata": {},
   "outputs": [],
   "source": [
    "from jupyterlab_h5web import H5Web\n",
    "from pathlib import Path\n",
    "\n",
    "file = Path(local_path) / Path(files[0])\n",
    "H5Web(file)"
   ]
  },
  {
   "cell_type": "code",
   "execution_count": null,
   "id": "a874e56b-a5c0-4562-a865-15ae73b9df4d",
   "metadata": {},
   "outputs": [],
   "source": [
    "%%time\n",
    "\n",
    "results = []\n",
    "\n",
    "# we just grab 1 granule from May for each year of the dataset\n",
    "for year in range(2018, 2022):\n",
    "    granules = earthaccess.search_data(\n",
    "        concept_id=\"C1598621093-GES_DISC\",\n",
    "        temporal=(f\"{year}-05-01\", f\"{year}-05-02\"))\n",
    "    if len(granules)>0:\n",
    "        results.extend(granules)\n",
    "\n",
    "print(len(results))"
   ]
  },
  {
   "cell_type": "code",
   "execution_count": null,
   "id": "9f192380-8e56-4cdd-85a3-75b766d21c1c",
   "metadata": {},
   "outputs": [],
   "source": [
    "results[0]"
   ]
  },
  {
   "cell_type": "code",
   "execution_count": null,
   "id": "c17291d1-c7e8-40fd-bdf5-280fe8daf410",
   "metadata": {},
   "outputs": [],
   "source": [
    "file = earthaccess.open(results[0:1])"
   ]
  },
  {
   "cell_type": "markdown",
   "id": "786efff1-91d7-4960-8063-f5626f96bcde",
   "metadata": {
    "tags": []
   },
   "source": [
    "## Plotting "
   ]
  },
  {
   "cell_type": "code",
   "execution_count": null,
   "id": "77987fb4-81b3-42da-b2ba-d043c034d726",
   "metadata": {},
   "outputs": [],
   "source": [
    "import h5py\n",
    "import numpy as np\n",
    "import matplotlib.pyplot as plt\n",
    "\n",
    "with h5py.File(file[0], 'r') as h5file:\n",
    "    img_arr = np.transpose(h5file['/Grid/HQprecipitation'][0,:,:])\n",
    "    \n",
    "fig = plt.subplots(figsize=(10,10)) \n",
    "plt.title('Plot raw 3IMERG image data')\n",
    "im = plt.imshow(img_arr) \n",
    "plt.colorbar(im)"
   ]
  }
 ],
 "metadata": {
  "kernelspec": {
   "display_name": "Python 3 (ipykernel)",
   "language": "python",
   "name": "python3"
  },
  "language_info": {
   "codemirror_mode": {
    "name": "ipython",
    "version": 3
   },
   "file_extension": ".py",
   "mimetype": "text/x-python",
   "name": "python",
   "nbconvert_exporter": "python",
   "pygments_lexer": "ipython3",
   "version": "3.9.15"
  }
 },
 "nbformat": 4,
 "nbformat_minor": 5
}
